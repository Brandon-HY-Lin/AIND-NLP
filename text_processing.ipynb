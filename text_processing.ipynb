{
 "cells": [
  {
   "cell_type": "markdown",
   "metadata": {},
   "source": [
    "# Text Processing\n",
    "\n",
    "## Capturing Text Data\n",
    "\n",
    "### Plain Text"
   ]
  },
  {
   "cell_type": "code",
   "execution_count": 1,
   "metadata": {},
   "outputs": [
    {
     "name": "stdout",
     "output_type": "stream",
     "text": [
      "Hieroglyphic writing dates from c. 3000 BC, and is composed of hundreds of symbols. A hieroglyph can represent a word, a sound, or a silent determinative; and the same symbol can serve different purposes in different contexts. Hieroglyphs were a formal script, used on stone monuments and in tombs, that could be as detailed as individual works of art.\n",
      "\n"
     ]
    }
   ],
   "source": [
    "import os\n",
    "\n",
    "# Read in a plain text file\n",
    "with open(os.path.join(\"data\", \"hieroglyph.txt\"), \"r\") as f:\n",
    "    text = f.read()\n",
    "    print(text)"
   ]
  },
  {
   "cell_type": "markdown",
   "metadata": {},
   "source": [
    "### Tabular Data"
   ]
  },
  {
   "cell_type": "code",
   "execution_count": 2,
   "metadata": {
    "scrolled": true
   },
   "outputs": [
    {
     "data": {
      "text/html": [
       "<div>\n",
       "<style>\n",
       "    .dataframe thead tr:only-child th {\n",
       "        text-align: right;\n",
       "    }\n",
       "\n",
       "    .dataframe thead th {\n",
       "        text-align: left;\n",
       "    }\n",
       "\n",
       "    .dataframe tbody tr th {\n",
       "        vertical-align: top;\n",
       "    }\n",
       "</style>\n",
       "<table border=\"1\" class=\"dataframe\">\n",
       "  <thead>\n",
       "    <tr style=\"text-align: right;\">\n",
       "      <th></th>\n",
       "      <th>publisher</th>\n",
       "      <th>title</th>\n",
       "    </tr>\n",
       "  </thead>\n",
       "  <tbody>\n",
       "    <tr>\n",
       "      <th>0</th>\n",
       "      <td>Livemint</td>\n",
       "      <td>fed's charles plosser sees high bar for change...</td>\n",
       "    </tr>\n",
       "    <tr>\n",
       "      <th>1</th>\n",
       "      <td>IFA Magazine</td>\n",
       "      <td>us open: stocks fall after fed official hints ...</td>\n",
       "    </tr>\n",
       "    <tr>\n",
       "      <th>2</th>\n",
       "      <td>IFA Magazine</td>\n",
       "      <td>fed risks falling 'behind the curve', charles ...</td>\n",
       "    </tr>\n",
       "    <tr>\n",
       "      <th>3</th>\n",
       "      <td>Moneynews</td>\n",
       "      <td>fed's plosser: nasty weather has curbed job gr...</td>\n",
       "    </tr>\n",
       "    <tr>\n",
       "      <th>4</th>\n",
       "      <td>NASDAQ</td>\n",
       "      <td>plosser: fed may have to accelerate tapering pace</td>\n",
       "    </tr>\n",
       "  </tbody>\n",
       "</table>\n",
       "</div>"
      ],
      "text/plain": [
       "      publisher                                              title\n",
       "0      Livemint  fed's charles plosser sees high bar for change...\n",
       "1  IFA Magazine  us open: stocks fall after fed official hints ...\n",
       "2  IFA Magazine  fed risks falling 'behind the curve', charles ...\n",
       "3     Moneynews  fed's plosser: nasty weather has curbed job gr...\n",
       "4        NASDAQ  plosser: fed may have to accelerate tapering pace"
      ]
     },
     "execution_count": 2,
     "metadata": {},
     "output_type": "execute_result"
    }
   ],
   "source": [
    "import pandas as pd\n",
    "\n",
    "# Extract text column from a dataframe\n",
    "df = pd.read_csv(os.path.join(\"data\", \"news.csv\"))\n",
    "df.head()[['publisher', 'title']]\n",
    "\n",
    "# Convert text column to lowercase\n",
    "df['title'] = df['title'].str.lower()\n",
    "df.head()[['publisher', 'title']]"
   ]
  },
  {
   "cell_type": "markdown",
   "metadata": {},
   "source": [
    "### Online Resource"
   ]
  },
  {
   "cell_type": "code",
   "execution_count": 3,
   "metadata": {
    "scrolled": true
   },
   "outputs": [
    {
     "name": "stdout",
     "output_type": "stream",
     "text": [
      "{\n",
      "    \"success\": {\n",
      "        \"total\": 1\n",
      "    },\n",
      "    \"contents\": {\n",
      "        \"quotes\": [\n",
      "            {\n",
      "                \"quote\": \"Do the best you can until you know better. Then when you know better, do better.\",\n",
      "                \"length\": \"80\",\n",
      "                \"author\": \"Maya Angelou\",\n",
      "                \"tags\": [\n",
      "                    \"inspire\",\n",
      "                    \"wisdom\"\n",
      "                ],\n",
      "                \"category\": \"inspire\",\n",
      "                \"date\": \"2018-12-13\",\n",
      "                \"permalink\": \"https://theysaidso.com/quote/B27anrMZFJFeMsJyTvRkrweF/maya-angelou-do-the-best-you-can-until-you-know-better-then-when-you-know-better\",\n",
      "                \"title\": \"Inspiring Quote of the day\",\n",
      "                \"background\": \"https://theysaidso.com/img/bgs/man_on_the_mountain.jpg\",\n",
      "                \"id\": \"B27anrMZFJFeMsJyTvRkrweF\"\n",
      "            }\n",
      "        ],\n",
      "        \"copyright\": \"2017-19 theysaidso.com\"\n",
      "    }\n",
      "}\n",
      "Do the best you can until you know better. Then when you know better, do better. \n",
      "-- Maya Angelou\n"
     ]
    }
   ],
   "source": [
    "import requests\n",
    "import json\n",
    "\n",
    "# Fetch data from a REST API\n",
    "r = requests.get(\n",
    "    \"https://quotes.rest/qod.json\")\n",
    "res = r.json()\n",
    "print(json.dumps(res, indent=4))\n",
    "\n",
    "# Extract relevant object and field\n",
    "q = res[\"contents\"][\"quotes\"][0]\n",
    "print(q[\"quote\"], \"\\n--\", q[\"author\"])"
   ]
  },
  {
   "cell_type": "markdown",
   "metadata": {},
   "source": [
    "## Cleaning"
   ]
  },
  {
   "cell_type": "code",
   "execution_count": 4,
   "metadata": {
    "scrolled": true
   },
   "outputs": [
    {
     "name": "stdout",
     "output_type": "stream",
     "text": [
      "<html op=\"news\"><head><meta name=\"referrer\" content=\"origin\"><meta name=\"viewport\" content=\"width=device-width, initial-scale=1.0\"><link rel=\"stylesheet\" type=\"text/css\" href=\"news.css?t5jUTpMoC5Zgg9xQIHjd\">\n",
      "            <link rel=\"shortcut icon\" href=\"favicon.ico\">\n",
      "          <link rel=\"alternate\" type=\"application/rss+xml\" title=\"RSS\" href=\"rss\">\n",
      "        <title>Hacker News</title></head><body><center><table id=\"hnmain\" border=\"0\" cellpadding=\"0\" cellspacing=\"0\" width=\"85%\" bgcolor=\"#f6f6ef\">\n",
      "        <tr><td bgcolor=\"#ff6600\"><table border=\"0\" cellpadding=\"0\" cellspacing=\"0\" width=\"100%\" style=\"padding:2px\"><tr><td style=\"width:18px;padding-right:4px\"><a href=\"https://news.ycombinator.com\"><img src=\"y18.gif\" width=\"18\" height=\"18\" style=\"border:1px white solid;\"></a></td>\n",
      "                  <td style=\"line-height:12pt; height:10px;\"><span class=\"pagetop\"><b class=\"hnname\"><a href=\"news\">Hacker News</a></b>\n",
      "              <a href=\"newest\">new</a> | <a href=\"newcomments\">comments</a> | <a href=\"show\">show</a> | <a href=\"ask\">ask</a> | <a href=\"jobs\">jobs</a> | <a href=\"submit\">submit</a>            </span></td><td style=\"text-align:right;padding-right:4px;\"><span class=\"pagetop\">\n",
      "                              <a href=\"login?goto=news\">login</a>\n",
      "                          </span></td>\n",
      "              </tr></table></td></tr>\n",
      "<tr style=\"height:10px\"></tr><tr><td><table border=\"0\" cellpadding=\"0\" cellspacing=\"0\" class=\"itemlist\">\n",
      "              <tr class='athing' id='18669720'>\n",
      "      <td align=\"right\" valign=\"top\" class=\"title\"><span class=\"rank\">1.</span></td>      <td valign=\"top\" class=\"votelinks\"><center><a id='up_18669720' href='vote?id=18669720&amp;how=up&amp;goto=news'><div class='votearrow' title='upvote'></div></a></center></td><td class=\"title\"><a href=\"https://research.checkpoint.com/50-adobe-cves-in-50-days/\" class=\"storylink\">50 CVEs in 50 Days: Fuzzing Adobe Reader</a><span class=\"sitebit comhead\"> (<a href=\"from?site=checkpoint.com\"><span class=\"sitestr\">checkpoint.com</span></a>)</span></td></tr><tr><td colspan=\"2\"></td><td class=\"subtext\">\n",
      "        <span class=\"score\" id=\"score_18669720\">151 points</span> by <a href=\"user?id=myinnerbanjo\" class=\"hnuser\">myinnerbanjo</a> <span class=\"age\"><a href=\"item?id=18669720\">5 hours ago</a></span> <span id=\"unv_18669720\"></span> | <a href=\"hide?id=18669720&amp;goto=news\">hide</a> | <a href=\"item?id=18669720\">63&nbsp;comments</a>              </td></tr>\n",
      "      <tr class=\"spacer\" style=\"height:5px\"></tr>\n",
      "                <tr class='athing' id='18667750'>\n",
      "      <td align=\"right\" valign=\"top\" class=\"title\"><span class=\"rank\">2.</span></td>      <td valign=\"top\" class=\"votelinks\"><center><a id='up_18667750' href='vote?id=18667750&amp;how=up&amp;goto=news'><div class='votearrow' title='upvote'></div></a></center></td><td class=\"title\"><a href=\"https://www.smithsonianmag.com/science-nature/ant-colonies-retain-memories-outlast-lifespans-individuals-180971022/\" class=\"storylink\">Ant Colonies Retain Memories That Outlast the Lifespans of Individuals</a><span class=\"sitebit comhead\"> (<a href=\"from?site=smithsonianmag.com\"><span class=\"sitestr\">smithsonianmag.com</span></a>)</span></td></tr><tr><td colspan=\"2\"></td><td class=\"subtext\">\n",
      "        <span class=\"score\" id=\"score_18667750\">289 points</span> by <a href=\"user?id=bangonkeyboard\" class=\"hnuser\">bangonkeyboard</a> <span class=\"age\"><a href=\"item?id=18667750\">11 hours ago</a></span> <span id=\"unv_18667750\"></span> | <a href=\"hide?id=18667750&amp;goto=news\">hide</a> | <a href=\"item?id=18667750\">48&nbsp;comments</a>              </td></tr>\n",
      "      <tr class=\"spacer\" style=\"height:5px\"></tr>\n",
      "                <tr class='athing' id='18667747'>\n",
      "      <td align=\"right\" valign=\"top\" class=\"title\"><span class=\"rank\">3.</span></td>      <td valign=\"top\" class=\"votelinks\"><center><a id='up_18667747' href='vote?id=18667747&amp;how=up&amp;goto=news'><div class='votearrow' title='upvote'></div></a></center></td><td class=\"title\"><a href=\"https://archive.org/donate/\" class=\"storylink\">Archive.org donations are currently matched by a generous supporter 2-to-1</a><span class=\"sitebit comhead\"> (<a href=\"from?site=archive.org\"><span class=\"sitestr\">archive.org</span></a>)</span></td></tr><tr><td colspan=\"2\"></td><td class=\"subtext\">\n",
      "        <span class=\"score\" id=\"score_18667747\">62 points</span> by <a href=\"user?id=aw3c2\" class=\"hnuser\">aw3c2</a> <span class=\"age\"><a href=\"item?id=18667747\">4 hours ago</a></span> <span id=\"unv_18667747\"></span> | <a href=\"hide?id=18667747&amp;goto=news\">hide</a> | <a href=\"item?id=18667747\">7&nbsp;comments</a>              </td></tr>\n",
      "      <tr class=\"spacer\" style=\"height:5px\"></tr>\n",
      "                <tr class='athing' id='18662668'>\n",
      "      <td align=\"right\" valign=\"top\" class=\"title\"><span class=\"rank\">4.</span></td>      <td valign=\"top\" class=\"votelinks\"><center><a id='up_18662668' href='vote?id=18662668&amp;how=up&amp;goto=news'><div class='votearrow' title='upvote'></div></a></center></td><td class=\"title\"><a href=\"http://beza1e1.tuxen.de/waterfall.html\" class=\"storylink\">The Waterfall methodology was a historic accident and they knew it</a><span class=\"sitebit comhead\"> (<a href=\"from?site=tuxen.de\"><span class=\"sitestr\">tuxen.de</span></a>)</span></td></tr><tr><td colspan=\"2\"></td><td class=\"subtext\">\n",
      "        <span class=\"score\" id=\"score_18662668\">101 points</span> by <a href=\"user?id=janvdberg\" class=\"hnuser\">janvdberg</a> <span class=\"age\"><a href=\"item?id=18662668\">7 hours ago</a></span> <span id=\"unv_18662668\"></span> | <a href=\"hide?id=18662668&amp;goto=news\">hide</a> | <a href=\"item?id=18662668\">68&nbsp;comments</a>              </td></tr>\n",
      "      <tr class=\"spacer\" style=\"height:5px\"></tr>\n",
      "                <tr class='athing' id='18667660'>\n",
      "      <td align=\"right\" valign=\"top\" class=\"title\"><span class=\"rank\">5.</span></td>      <td valign=\"top\" class=\"votelinks\"><center><a id='up_18667660' href='vote?id=18667660&amp;how=up&amp;goto=news'><div class='votearrow' title='upvote'></div></a></center></td><td class=\"title\"><a href=\"https://en.wikipedia.org/wiki/Onion_Futures_Act\" class=\"storylink\">The Onion Futures Act</a><span class=\"sitebit comhead\"> (<a href=\"from?site=wikipedia.org\"><span class=\"sitestr\">wikipedia.org</span></a>)</span></td></tr><tr><td colspan=\"2\"></td><td class=\"subtext\">\n",
      "        <span class=\"score\" id=\"score_18667660\">202 points</span> by <a href=\"user?id=gkaemmer\" class=\"hnuser\">gkaemmer</a> <span class=\"age\"><a href=\"item?id=18667660\">11 hours ago</a></span> <span id=\"unv_18667660\"></span> | <a href=\"hide?id=18667660&amp;goto=news\">hide</a> | <a href=\"item?id=18667660\">56&nbsp;comments</a>              </td></tr>\n",
      "      <tr class=\"spacer\" style=\"height:5px\"></tr>\n",
      "                <tr class='athing' id='18670860'>\n",
      "      <td align=\"right\" valign=\"top\" class=\"title\"><span class=\"rank\">6.</span></td>      <td></td><td class=\"title\"><a href=\"https://www.sourceress.com/jobs/machine-learning-engineer\" class=\"storylink\" rel=\"nofollow\">Sourceress (YC S17) hiring ML engineers (no ML experience required, remote ok)</a><span class=\"sitebit comhead\"> (<a href=\"from?site=sourceress.com\"><span class=\"sitestr\">sourceress.com</span></a>)</span></td></tr><tr><td colspan=\"2\"></td><td class=\"subtext\">\n",
      "        <span class=\"age\"><a href=\"item?id=18670860\">1 minute ago</a></span> | <a href=\"hide?id=18670860&amp;goto=news\">hide</a>      </td></tr>\n",
      "      <tr class=\"spacer\" style=\"height:5px\"></tr>\n",
      "                <tr class='athing' id='18663349'>\n",
      "      <td align=\"right\" valign=\"top\" class=\"title\"><span class=\"rank\">7.</span></td>      <td valign=\"top\" class=\"votelinks\"><center><a id='up_18663349' href='vote?id=18663349&amp;how=up&amp;goto=news'><div class='votearrow' title='upvote'></div></a></center></td><td class=\"title\"><a href=\"https://msdn.microsoft.com/en-us/library/ms997636.aspx\" class=\"storylink\">Creating Windows XP Icons (2001)</a><span class=\"sitebit comhead\"> (<a href=\"from?site=microsoft.com\"><span class=\"sitestr\">microsoft.com</span></a>)</span></td></tr><tr><td colspan=\"2\"></td><td class=\"subtext\">\n",
      "        <span class=\"score\" id=\"score_18663349\">37 points</span> by <a href=\"user?id=richev\" class=\"hnuser\">richev</a> <span class=\"age\"><a href=\"item?id=18663349\">4 hours ago</a></span> <span id=\"unv_18663349\"></span> | <a href=\"hide?id=18663349&amp;goto=news\">hide</a> | <a href=\"item?id=18663349\">13&nbsp;comments</a>              </td></tr>\n",
      "      <tr class=\"spacer\" style=\"height:5px\"></tr>\n",
      "                <tr class='athing' id='18654982'>\n",
      "      <td align=\"right\" valign=\"top\" class=\"title\"><span class=\"rank\">8.</span></td>      <td valign=\"top\" class=\"votelinks\"><center><a id='up_18654982' href='vote?id=18654982&amp;how=up&amp;goto=news'><div class='votearrow' title='upvote'></div></a></center></td><td class=\"title\"><a href=\"https://www.economist.com/science-and-technology/2018/11/17/a-newly-discovered-tea-plant-is-caffeine-free\" class=\"storylink\">A newly discovered tea plant is caffeine-free</a><span class=\"sitebit comhead\"> (<a href=\"from?site=economist.com\"><span class=\"sitestr\">economist.com</span></a>)</span></td></tr><tr><td colspan=\"2\"></td><td class=\"subtext\">\n",
      "        <span class=\"score\" id=\"score_18654982\">13 points</span> by <a href=\"user?id=bookofjoe\" class=\"hnuser\">bookofjoe</a> <span class=\"age\"><a href=\"item?id=18654982\">2 hours ago</a></span> <span id=\"unv_18654982\"></span> | <a href=\"hide?id=18654982&amp;goto=news\">hide</a> | <a href=\"item?id=18654982\">4&nbsp;comments</a>              </td></tr>\n",
      "      <tr class=\"spacer\" style=\"height:5px\"></tr>\n",
      "                <tr class='athing' id='18668663'>\n",
      "      <td align=\"right\" valign=\"top\" class=\"title\"><span class=\"rank\">9.</span></td>      <td valign=\"top\" class=\"votelinks\"><center><a id='up_18668663' href='vote?id=18668663&amp;how=up&amp;goto=news'><div class='votearrow' title='upvote'></div></a></center></td><td class=\"title\"><a href=\"https://www.nhs.uk/news/older-people/puzzle-solving-doesnt-slow-down-mental-decline-older-people/\" class=\"storylink\">Puzzle-solving 'doesn't slow down mental decline in older people'</a><span class=\"sitebit comhead\"> (<a href=\"from?site=nhs.uk\"><span class=\"sitestr\">nhs.uk</span></a>)</span></td></tr><tr><td colspan=\"2\"></td><td class=\"subtext\">\n",
      "        <span class=\"score\" id=\"score_18668663\">233 points</span> by <a href=\"user?id=open-source-ux\" class=\"hnuser\">open-source-ux</a> <span class=\"age\"><a href=\"item?id=18668663\">9 hours ago</a></span> <span id=\"unv_18668663\"></span> | <a href=\"hide?id=18668663&amp;goto=news\">hide</a> | <a href=\"item?id=18668663\">63&nbsp;comments</a>              </td></tr>\n",
      "      <tr class=\"spacer\" style=\"height:5px\"></tr>\n",
      "                <tr class='athing' id='18654462'>\n",
      "      <td align=\"right\" valign=\"top\" class=\"title\"><span class=\"rank\">10.</span></td>      <td valign=\"top\" class=\"votelinks\"><center><a id='up_18654462' href='vote?id=18654462&amp;how=up&amp;goto=news'><div class='votearrow' title='upvote'></div></a></center></td><td class=\"title\"><a href=\"https://blog.cloudflare.com/the-truth-about-black-friday-and-cyber-monday/\" class=\"storylink\">Page Views on Black Friday and Cyber Monday</a><span class=\"sitebit comhead\"> (<a href=\"from?site=cloudflare.com\"><span class=\"sitestr\">cloudflare.com</span></a>)</span></td></tr><tr><td colspan=\"2\"></td><td class=\"subtext\">\n",
      "        <span class=\"score\" id=\"score_18654462\">11 points</span> by <a href=\"user?id=jgrahamc\" class=\"hnuser\">jgrahamc</a> <span class=\"age\"><a href=\"item?id=18654462\">2 hours ago</a></span> <span id=\"unv_18654462\"></span> | <a href=\"hide?id=18654462&amp;goto=news\">hide</a> | <a href=\"item?id=18654462\">1&nbsp;comment</a>              </td></tr>\n",
      "      <tr class=\"spacer\" style=\"height:5px\"></tr>\n",
      "                <tr class='athing' id='18669142'>\n",
      "      <td align=\"right\" valign=\"top\" class=\"title\"><span class=\"rank\">11.</span></td>      <td valign=\"top\" class=\"votelinks\"><center><a id='up_18669142' href='vote?id=18669142&amp;how=up&amp;goto=news'><div class='votearrow' title='upvote'></div></a></center></td><td class=\"title\"><a href=\"https://overreacted.io/why-do-hooks-rely-on-call-order/\" class=\"storylink\">Why Do React Hooks Rely on Call Order?</a><span class=\"sitebit comhead\"> (<a href=\"from?site=overreacted.io\"><span class=\"sitestr\">overreacted.io</span></a>)</span></td></tr><tr><td colspan=\"2\"></td><td class=\"subtext\">\n",
      "        <span class=\"score\" id=\"score_18669142\">79 points</span> by <a href=\"user?id=stablemap\" class=\"hnuser\">stablemap</a> <span class=\"age\"><a href=\"item?id=18669142\">7 hours ago</a></span> <span id=\"unv_18669142\"></span> | <a href=\"hide?id=18669142&amp;goto=news\">hide</a> | <a href=\"item?id=18669142\">22&nbsp;comments</a>              </td></tr>\n",
      "      <tr class=\"spacer\" style=\"height:5px\"></tr>\n",
      "                <tr class='athing' id='18651554'>\n",
      "      <td align=\"right\" valign=\"top\" class=\"title\"><span class=\"rank\">12.</span></td>      <td valign=\"top\" class=\"votelinks\"><center><a id='up_18651554' href='vote?id=18651554&amp;how=up&amp;goto=news'><div class='votearrow' title='upvote'></div></a></center></td><td class=\"title\"><a href=\"https://www.nytimes.com/2018/12/10/obituaries/evelyn-berezin-dead.html\" class=\"storylink\">Evelyn Berezin, 93, Dies; Built the First True Word Processor</a><span class=\"sitebit comhead\"> (<a href=\"from?site=nytimes.com\"><span class=\"sitestr\">nytimes.com</span></a>)</span></td></tr><tr><td colspan=\"2\"></td><td class=\"subtext\">\n",
      "        <span class=\"score\" id=\"score_18651554\">45 points</span> by <a href=\"user?id=NaOH\" class=\"hnuser\">NaOH</a> <span class=\"age\"><a href=\"item?id=18651554\">7 hours ago</a></span> <span id=\"unv_18651554\"></span> | <a href=\"hide?id=18651554&amp;goto=news\">hide</a> | <a href=\"item?id=18651554\">2&nbsp;comments</a>              </td></tr>\n",
      "      <tr class=\"spacer\" style=\"height:5px\"></tr>\n",
      "                <tr class='athing' id='18667179'>\n",
      "      <td align=\"right\" valign=\"top\" class=\"title\"><span class=\"rank\">13.</span></td>      <td valign=\"top\" class=\"votelinks\"><center><a id='up_18667179' href='vote?id=18667179&amp;how=up&amp;goto=news'><div class='votearrow' title='upvote'></div></a></center></td><td class=\"title\"><a href=\"https://www.bsdfrog.org/pub/events/my_bsd_sucks_less_than_yours-AsiaBSDCon2017-paper.pdf\" class=\"storylink\">Comprehensive and biased comparison of OpenBSD and FreeBSD (2017) [pdf]</a><span class=\"sitebit comhead\"> (<a href=\"from?site=bsdfrog.org\"><span class=\"sitestr\">bsdfrog.org</span></a>)</span></td></tr><tr><td colspan=\"2\"></td><td class=\"subtext\">\n",
      "        <span class=\"score\" id=\"score_18667179\">57 points</span> by <a href=\"user?id=j0e1\" class=\"hnuser\">j0e1</a> <span class=\"age\"><a href=\"item?id=18667179\">9 hours ago</a></span> <span id=\"unv_18667179\"></span> | <a href=\"hide?id=18667179&amp;goto=news\">hide</a> | <a href=\"item?id=18667179\">4&nbsp;comments</a>              </td></tr>\n",
      "      <tr class=\"spacer\" style=\"height:5px\"></tr>\n",
      "                <tr class='athing' id='18666159'>\n",
      "      <td align=\"right\" valign=\"top\" class=\"title\"><span class=\"rank\">14.</span></td>      <td valign=\"top\" class=\"votelinks\"><center><a id='up_18666159' href='vote?id=18666159&amp;how=up&amp;goto=news'><div class='votearrow' title='upvote'></div></a></center></td><td class=\"title\"><a href=\"https://www.huckmag.com/art-and-culture/photography-2/up-close-with-new-zealands-most-notorious-gang/\" class=\"storylink\">Up close with New Zealand’s most notorious gang</a><span class=\"sitebit comhead\"> (<a href=\"from?site=huckmag.com\"><span class=\"sitestr\">huckmag.com</span></a>)</span></td></tr><tr><td colspan=\"2\"></td><td class=\"subtext\">\n",
      "        <span class=\"score\" id=\"score_18666159\">32 points</span> by <a href=\"user?id=bdcook\" class=\"hnuser\">bdcook</a> <span class=\"age\"><a href=\"item?id=18666159\">5 hours ago</a></span> <span id=\"unv_18666159\"></span> | <a href=\"hide?id=18666159&amp;goto=news\">hide</a> | <a href=\"item?id=18666159\">24&nbsp;comments</a>              </td></tr>\n",
      "      <tr class=\"spacer\" style=\"height:5px\"></tr>\n",
      "                <tr class='athing' id='18661838'>\n",
      "      <td align=\"right\" valign=\"top\" class=\"title\"><span class=\"rank\">15.</span></td>      <td valign=\"top\" class=\"votelinks\"><center><a id='up_18661838' href='vote?id=18661838&amp;how=up&amp;goto=news'><div class='votearrow' title='upvote'></div></a></center></td><td class=\"title\"><a href=\"https://www.cncf.io/phippy-goes-to-the-zoo-book/\" class=\"storylink\" rel=\"nofollow\">Phippy Goes to the Zoo</a><span class=\"sitebit comhead\"> (<a href=\"from?site=cncf.io\"><span class=\"sitestr\">cncf.io</span></a>)</span></td></tr><tr><td colspan=\"2\"></td><td class=\"subtext\">\n",
      "        <span class=\"score\" id=\"score_18661838\">8 points</span> by <a href=\"user?id=pplonski86\" class=\"hnuser\">pplonski86</a> <span class=\"age\"><a href=\"item?id=18661838\">2 hours ago</a></span> <span id=\"unv_18661838\"></span> | <a href=\"hide?id=18661838&amp;goto=news\">hide</a> | <a href=\"item?id=18661838\">1&nbsp;comment</a>              </td></tr>\n",
      "      <tr class=\"spacer\" style=\"height:5px\"></tr>\n",
      "                <tr class='athing' id='18663223'>\n",
      "      <td align=\"right\" valign=\"top\" class=\"title\"><span class=\"rank\">16.</span></td>      <td valign=\"top\" class=\"votelinks\"><center><a id='up_18663223' href='vote?id=18663223&amp;how=up&amp;goto=news'><div class='votearrow' title='upvote'></div></a></center></td><td class=\"title\"><a href=\"https://ftp.cs.ucla.edu/pub/stat_ser/r49.pdf\" class=\"storylink\">How to do with probabilities what people say you can’t (1985) [pdf]</a><span class=\"sitebit comhead\"> (<a href=\"from?site=ucla.edu\"><span class=\"sitestr\">ucla.edu</span></a>)</span></td></tr><tr><td colspan=\"2\"></td><td class=\"subtext\">\n",
      "        <span class=\"score\" id=\"score_18663223\">93 points</span> by <a href=\"user?id=sytelus\" class=\"hnuser\">sytelus</a> <span class=\"age\"><a href=\"item?id=18663223\">12 hours ago</a></span> <span id=\"unv_18663223\"></span> | <a href=\"hide?id=18663223&amp;goto=news\">hide</a> | <a href=\"item?id=18663223\">19&nbsp;comments</a>              </td></tr>\n",
      "      <tr class=\"spacer\" style=\"height:5px\"></tr>\n",
      "                <tr class='athing' id='18668536'>\n",
      "      <td align=\"right\" valign=\"top\" class=\"title\"><span class=\"rank\">17.</span></td>      <td valign=\"top\" class=\"votelinks\"><center><a id='up_18668536' href='vote?id=18668536&amp;how=up&amp;goto=news'><div class='votearrow' title='upvote'></div></a></center></td><td class=\"title\"><a href=\"https://www.theverge.com/2018/12/12/18137984/taylor-swift-facial-recognition-tech-concert-attendees-stalkers\" class=\"storylink\">Taylor Swift tracked stalkers with facial recognition tech at her concert</a><span class=\"sitebit comhead\"> (<a href=\"from?site=theverge.com\"><span class=\"sitestr\">theverge.com</span></a>)</span></td></tr><tr><td colspan=\"2\"></td><td class=\"subtext\">\n",
      "        <span class=\"score\" id=\"score_18668536\">37 points</span> by <a href=\"user?id=bookofjoe\" class=\"hnuser\">bookofjoe</a> <span class=\"age\"><a href=\"item?id=18668536\">9 hours ago</a></span> <span id=\"unv_18668536\"></span> | <a href=\"hide?id=18668536&amp;goto=news\">hide</a> | <a href=\"item?id=18668536\">14&nbsp;comments</a>              </td></tr>\n",
      "      <tr class=\"spacer\" style=\"height:5px\"></tr>\n",
      "                <tr class='athing' id='18666574'>\n",
      "      <td align=\"right\" valign=\"top\" class=\"title\"><span class=\"rank\">18.</span></td>      <td valign=\"top\" class=\"votelinks\"><center><a id='up_18666574' href='vote?id=18666574&amp;how=up&amp;goto=news'><div class='votearrow' title='upvote'></div></a></center></td><td class=\"title\"><a href=\"https://www.gwern.net/Search\" class=\"storylink\">Internet Search Tips</a><span class=\"sitebit comhead\"> (<a href=\"from?site=gwern.net\"><span class=\"sitestr\">gwern.net</span></a>)</span></td></tr><tr><td colspan=\"2\"></td><td class=\"subtext\">\n",
      "        <span class=\"score\" id=\"score_18666574\">123 points</span> by <a href=\"user?id=telotortium\" class=\"hnuser\">telotortium</a> <span class=\"age\"><a href=\"item?id=18666574\">14 hours ago</a></span> <span id=\"unv_18666574\"></span> | <a href=\"hide?id=18666574&amp;goto=news\">hide</a> | <a href=\"item?id=18666574\">23&nbsp;comments</a>              </td></tr>\n",
      "      <tr class=\"spacer\" style=\"height:5px\"></tr>\n",
      "                <tr class='athing' id='18663129'>\n",
      "      <td align=\"right\" valign=\"top\" class=\"title\"><span class=\"rank\">19.</span></td>      <td valign=\"top\" class=\"votelinks\"><center><a id='up_18663129' href='vote?id=18663129&amp;how=up&amp;goto=news'><div class='votearrow' title='upvote'></div></a></center></td><td class=\"title\"><a href=\"http://strangehorizons.com/fiction/das-steingeschopf/\" class=\"storylink\" rel=\"nofollow\">Das Steingeschöpf</a><span class=\"sitebit comhead\"> (<a href=\"from?site=strangehorizons.com\"><span class=\"sitestr\">strangehorizons.com</span></a>)</span></td></tr><tr><td colspan=\"2\"></td><td class=\"subtext\">\n",
      "        <span class=\"score\" id=\"score_18663129\">8 points</span> by <a href=\"user?id=Tomte\" class=\"hnuser\">Tomte</a> <span class=\"age\"><a href=\"item?id=18663129\">3 hours ago</a></span> <span id=\"unv_18663129\"></span> | <a href=\"hide?id=18663129&amp;goto=news\">hide</a> | <a href=\"item?id=18663129\">1&nbsp;comment</a>              </td></tr>\n",
      "      <tr class=\"spacer\" style=\"height:5px\"></tr>\n",
      "                <tr class='athing' id='18666146'>\n",
      "      <td align=\"right\" valign=\"top\" class=\"title\"><span class=\"rank\">20.</span></td>      <td valign=\"top\" class=\"votelinks\"><center><a id='up_18666146' href='vote?id=18666146&amp;how=up&amp;goto=news'><div class='votearrow' title='upvote'></div></a></center></td><td class=\"title\"><a href=\"https://shadergif.com/\" class=\"storylink\">Show HN: Free and open-source home for art made with code</a><span class=\"sitebit comhead\"> (<a href=\"from?site=shadergif.com\"><span class=\"sitestr\">shadergif.com</span></a>)</span></td></tr><tr><td colspan=\"2\"></td><td class=\"subtext\">\n",
      "        <span class=\"score\" id=\"score_18666146\">114 points</span> by <a href=\"user?id=antoineMoPa\" class=\"hnuser\">antoineMoPa</a> <span class=\"age\"><a href=\"item?id=18666146\">14 hours ago</a></span> <span id=\"unv_18666146\"></span> | <a href=\"hide?id=18666146&amp;goto=news\">hide</a> | <a href=\"item?id=18666146\">27&nbsp;comments</a>              </td></tr>\n",
      "      <tr class=\"spacer\" style=\"height:5px\"></tr>\n",
      "                <tr class='athing' id='18667160'>\n",
      "      <td align=\"right\" valign=\"top\" class=\"title\"><span class=\"rank\">21.</span></td>      <td valign=\"top\" class=\"votelinks\"><center><a id='up_18667160' href='vote?id=18667160&amp;how=up&amp;goto=news'><div class='votearrow' title='upvote'></div></a></center></td><td class=\"title\"><a href=\"https://www.growthranker.com\" class=\"storylink\">Growth Ranker – Top-growing products on Indie Hackers</a><span class=\"sitebit comhead\"> (<a href=\"from?site=growthranker.com\"><span class=\"sitestr\">growthranker.com</span></a>)</span></td></tr><tr><td colspan=\"2\"></td><td class=\"subtext\">\n",
      "        <span class=\"score\" id=\"score_18667160\">77 points</span> by <a href=\"user?id=bsears\" class=\"hnuser\">bsears</a> <span class=\"age\"><a href=\"item?id=18667160\">13 hours ago</a></span> <span id=\"unv_18667160\"></span> | <a href=\"hide?id=18667160&amp;goto=news\">hide</a> | <a href=\"item?id=18667160\">13&nbsp;comments</a>              </td></tr>\n",
      "      <tr class=\"spacer\" style=\"height:5px\"></tr>\n",
      "                <tr class='athing' id='18668777'>\n",
      "      <td align=\"right\" valign=\"top\" class=\"title\"><span class=\"rank\">22.</span></td>      <td valign=\"top\" class=\"votelinks\"><center><a id='up_18668777' href='vote?id=18668777&amp;how=up&amp;goto=news'><div class='votearrow' title='upvote'></div></a></center></td><td class=\"title\"><a href=\"https://www.vox.com/policy-and-politics/2018/12/12/18136408/congress-hemp-marijuana-legalization-farm-bill\" class=\"storylink\">Congress just voted to legalize hemp</a><span class=\"sitebit comhead\"> (<a href=\"from?site=vox.com\"><span class=\"sitestr\">vox.com</span></a>)</span></td></tr><tr><td colspan=\"2\"></td><td class=\"subtext\">\n",
      "        <span class=\"score\" id=\"score_18668777\">27 points</span> by <a href=\"user?id=gdubs\" class=\"hnuser\">gdubs</a> <span class=\"age\"><a href=\"item?id=18668777\">8 hours ago</a></span> <span id=\"unv_18668777\"></span> | <a href=\"hide?id=18668777&amp;goto=news\">hide</a> | <a href=\"item?id=18668777\">5&nbsp;comments</a>              </td></tr>\n",
      "      <tr class=\"spacer\" style=\"height:5px\"></tr>\n",
      "                <tr class='athing' id='18668638'>\n",
      "      <td align=\"right\" valign=\"top\" class=\"title\"><span class=\"rank\">23.</span></td>      <td valign=\"top\" class=\"votelinks\"><center><a id='up_18668638' href='vote?id=18668638&amp;how=up&amp;goto=news'><div class='votearrow' title='upvote'></div></a></center></td><td class=\"title\"><a href=\"https://fsharpforfunandprofit.com/why-use-fsharp/\" class=\"storylink\">Why Use F#?</a><span class=\"sitebit comhead\"> (<a href=\"from?site=fsharpforfunandprofit.com\"><span class=\"sitestr\">fsharpforfunandprofit.com</span></a>)</span></td></tr><tr><td colspan=\"2\"></td><td class=\"subtext\">\n",
      "        <span class=\"score\" id=\"score_18668638\">172 points</span> by <a href=\"user?id=adgasf\" class=\"hnuser\">adgasf</a> <span class=\"age\"><a href=\"item?id=18668638\">9 hours ago</a></span> <span id=\"unv_18668638\"></span> | <a href=\"hide?id=18668638&amp;goto=news\">hide</a> | <a href=\"item?id=18668638\">146&nbsp;comments</a>              </td></tr>\n",
      "      <tr class=\"spacer\" style=\"height:5px\"></tr>\n",
      "                <tr class='athing' id='18668669'>\n",
      "      <td align=\"right\" valign=\"top\" class=\"title\"><span class=\"rank\">24.</span></td>      <td valign=\"top\" class=\"votelinks\"><center><a id='up_18668669' href='vote?id=18668669&amp;how=up&amp;goto=news'><div class='votearrow' title='upvote'></div></a></center></td><td class=\"title\"><a href=\"http://250bpm.com/blog:4\" class=\"storylink\">Why should I have written ZeroMQ in C, not C++ (2012)</a><span class=\"sitebit comhead\"> (<a href=\"from?site=250bpm.com\"><span class=\"sitestr\">250bpm.com</span></a>)</span></td></tr><tr><td colspan=\"2\"></td><td class=\"subtext\">\n",
      "        <span class=\"score\" id=\"score_18668669\">190 points</span> by <a href=\"user?id=sytelus\" class=\"hnuser\">sytelus</a> <span class=\"age\"><a href=\"item?id=18668669\">9 hours ago</a></span> <span id=\"unv_18668669\"></span> | <a href=\"hide?id=18668669&amp;goto=news\">hide</a> | <a href=\"item?id=18668669\">160&nbsp;comments</a>              </td></tr>\n",
      "      <tr class=\"spacer\" style=\"height:5px\"></tr>\n",
      "                <tr class='athing' id='18663569'>\n",
      "      <td align=\"right\" valign=\"top\" class=\"title\"><span class=\"rank\">25.</span></td>      <td valign=\"top\" class=\"votelinks\"><center><a id='up_18663569' href='vote?id=18663569&amp;how=up&amp;goto=news'><div class='votearrow' title='upvote'></div></a></center></td><td class=\"title\"><a href=\"https://lithub.com/in-praise-of-the-long-and-complicated-sentence/\" class=\"storylink\">In Praise of the Long and Complicated Sentence</a><span class=\"sitebit comhead\"> (<a href=\"from?site=lithub.com\"><span class=\"sitestr\">lithub.com</span></a>)</span></td></tr><tr><td colspan=\"2\"></td><td class=\"subtext\">\n",
      "        <span class=\"score\" id=\"score_18663569\">66 points</span> by <a href=\"user?id=JamesClear99\" class=\"hnuser\">JamesClear99</a> <span class=\"age\"><a href=\"item?id=18663569\">9 hours ago</a></span> <span id=\"unv_18663569\"></span> | <a href=\"hide?id=18663569&amp;goto=news\">hide</a> | <a href=\"item?id=18663569\">36&nbsp;comments</a>              </td></tr>\n",
      "      <tr class=\"spacer\" style=\"height:5px\"></tr>\n",
      "                <tr class='athing' id='18666392'>\n",
      "      <td align=\"right\" valign=\"top\" class=\"title\"><span class=\"rank\">26.</span></td>      <td valign=\"top\" class=\"votelinks\"><center><a id='up_18666392' href='vote?id=18666392&amp;how=up&amp;goto=news'><div class='votearrow' title='upvote'></div></a></center></td><td class=\"title\"><a href=\"https://www.nature.com/articles/s41467-018-05739-8\" class=\"storylink\">Quantum theory cannot consistently describe the use of itself</a><span class=\"sitebit comhead\"> (<a href=\"from?site=nature.com\"><span class=\"sitestr\">nature.com</span></a>)</span></td></tr><tr><td colspan=\"2\"></td><td class=\"subtext\">\n",
      "        <span class=\"score\" id=\"score_18666392\">40 points</span> by <a href=\"user?id=lisper\" class=\"hnuser\">lisper</a> <span class=\"age\"><a href=\"item?id=18666392\">5 hours ago</a></span> <span id=\"unv_18666392\"></span> | <a href=\"hide?id=18666392&amp;goto=news\">hide</a> | <a href=\"item?id=18666392\">18&nbsp;comments</a>              </td></tr>\n",
      "      <tr class=\"spacer\" style=\"height:5px\"></tr>\n",
      "                <tr class='athing' id='18663298'>\n",
      "      <td align=\"right\" valign=\"top\" class=\"title\"><span class=\"rank\">27.</span></td>      <td valign=\"top\" class=\"votelinks\"><center><a id='up_18663298' href='vote?id=18663298&amp;how=up&amp;goto=news'><div class='votearrow' title='upvote'></div></a></center></td><td class=\"title\"><a href=\"http://techsnuffle.com/2018/12/07/reasons-why-lisp-games-suffer-corrections\" class=\"storylink\">Response to 'Reasons why Lisp games suffer'</a><span class=\"sitebit comhead\"> (<a href=\"from?site=techsnuffle.com\"><span class=\"sitestr\">techsnuffle.com</span></a>)</span></td></tr><tr><td colspan=\"2\"></td><td class=\"subtext\">\n",
      "        <span class=\"score\" id=\"score_18663298\">84 points</span> by <a href=\"user?id=etiam\" class=\"hnuser\">etiam</a> <span class=\"age\"><a href=\"item?id=18663298\">13 hours ago</a></span> <span id=\"unv_18663298\"></span> | <a href=\"hide?id=18663298&amp;goto=news\">hide</a> | <a href=\"item?id=18663298\">61&nbsp;comments</a>              </td></tr>\n",
      "      <tr class=\"spacer\" style=\"height:5px\"></tr>\n",
      "                <tr class='athing' id='18663959'>\n",
      "      <td align=\"right\" valign=\"top\" class=\"title\"><span class=\"rank\">28.</span></td>      <td valign=\"top\" class=\"votelinks\"><center><a id='up_18663959' href='vote?id=18663959&amp;how=up&amp;goto=news'><div class='votearrow' title='upvote'></div></a></center></td><td class=\"title\"><a href=\"https://rachelbythebay.com/w/2018/12/11/ring/\" class=\"storylink\">ATDT relief</a><span class=\"sitebit comhead\"> (<a href=\"from?site=rachelbythebay.com\"><span class=\"sitestr\">rachelbythebay.com</span></a>)</span></td></tr><tr><td colspan=\"2\"></td><td class=\"subtext\">\n",
      "        <span class=\"score\" id=\"score_18663959\">485 points</span> by <a href=\"user?id=discreditable\" class=\"hnuser\">discreditable</a> <span class=\"age\"><a href=\"item?id=18663959\">18 hours ago</a></span> <span id=\"unv_18663959\"></span> | <a href=\"hide?id=18663959&amp;goto=news\">hide</a> | <a href=\"item?id=18663959\">133&nbsp;comments</a>              </td></tr>\n",
      "      <tr class=\"spacer\" style=\"height:5px\"></tr>\n",
      "                <tr class='athing' id='18670031'>\n",
      "      <td align=\"right\" valign=\"top\" class=\"title\"><span class=\"rank\">29.</span></td>      <td valign=\"top\" class=\"votelinks\"><center><a id='up_18670031' href='vote?id=18670031&amp;how=up&amp;goto=news'><div class='votearrow' title='upvote'></div></a></center></td><td class=\"title\"><a href=\"http://www.pinyin.info/readings/texts/moser.html\" class=\"storylink\">Why Chinese Is So Damn Hard (1992)</a><span class=\"sitebit comhead\"> (<a href=\"from?site=pinyin.info\"><span class=\"sitestr\">pinyin.info</span></a>)</span></td></tr><tr><td colspan=\"2\"></td><td class=\"subtext\">\n",
      "        <span class=\"score\" id=\"score_18670031\">24 points</span> by <a href=\"user?id=monsieurpng\" class=\"hnuser\">monsieurpng</a> <span class=\"age\"><a href=\"item?id=18670031\">3 hours ago</a></span> <span id=\"unv_18670031\"></span> | <a href=\"hide?id=18670031&amp;goto=news\">hide</a> | <a href=\"item?id=18670031\">20&nbsp;comments</a>              </td></tr>\n",
      "      <tr class=\"spacer\" style=\"height:5px\"></tr>\n",
      "                <tr class='athing' id='18662867'>\n",
      "      <td align=\"right\" valign=\"top\" class=\"title\"><span class=\"rank\">30.</span></td>      <td valign=\"top\" class=\"votelinks\"><center><a id='up_18662867' href='vote?id=18662867&amp;how=up&amp;goto=news'><div class='votearrow' title='upvote'></div></a></center></td><td class=\"title\"><a href=\"http://larvatus.com/michael-crichton-why-speculate/\" class=\"storylink\">Why Speculate? (2005)</a><span class=\"sitebit comhead\"> (<a href=\"from?site=larvatus.com\"><span class=\"sitestr\">larvatus.com</span></a>)</span></td></tr><tr><td colspan=\"2\"></td><td class=\"subtext\">\n",
      "        <span class=\"score\" id=\"score_18662867\">9 points</span> by <a href=\"user?id=rfreytag\" class=\"hnuser\">rfreytag</a> <span class=\"age\"><a href=\"item?id=18662867\">4 hours ago</a></span> <span id=\"unv_18662867\"></span> | <a href=\"hide?id=18662867&amp;goto=news\">hide</a> | <a href=\"item?id=18662867\">discuss</a>              </td></tr>\n",
      "      <tr class=\"spacer\" style=\"height:5px\"></tr>\n",
      "            <tr class=\"morespace\" style=\"height:10px\"></tr><tr><td colspan=\"2\"></td><td class=\"title\"><a href=\"news?p=2\" class=\"morelink\" rel=\"nofollow\">More</a></td></tr>\n",
      "  </table>\n",
      "</td></tr>\n",
      "<tr><td><img src=\"s.gif\" height=\"10\" width=\"0\"><table width=\"100%\" cellspacing=\"0\" cellpadding=\"1\"><tr><td bgcolor=\"#ff6600\"></td></tr></table><br><center><span class=\"yclinks\"><a href=\"newsguidelines.html\">Guidelines</a>\n",
      "        | <a href=\"newsfaq.html\">FAQ</a>\n",
      "        | <a href=\"mailto:hn@ycombinator.com\">Support</a>\n",
      "        | <a href=\"https://github.com/HackerNews/API\">API</a>\n",
      "        | <a href=\"security.html\">Security</a>\n",
      "        | <a href=\"lists\">Lists</a>\n",
      "        | <a href=\"bookmarklet.html\" rel=\"nofollow\">Bookmarklet</a>\n",
      "        | <a href=\"http://www.ycombinator.com/legal/\">Legal</a>\n",
      "        | <a href=\"http://www.ycombinator.com/apply/\">Apply to YC</a>\n",
      "        | <a href=\"mailto:hn@ycombinator.com\">Contact</a></span><br><br><form method=\"get\" action=\"//hn.algolia.com/\">Search:\n",
      "          <input type=\"text\" name=\"q\" value=\"\" size=\"17\" autocorrect=\"off\" spellcheck=\"false\" autocapitalize=\"off\" autocomplete=\"false\"></form>\n",
      "            </center></td></tr>\n",
      "      </table></center></body><script type='text/javascript' src='hn.js?t5jUTpMoC5Zgg9xQIHjd'></script>\n",
      "  </html>\n",
      "\n"
     ]
    }
   ],
   "source": [
    "import requests\n",
    "\n",
    "# Fetch a web page\n",
    "r = requests.get(\"https://news.ycombinator.com\")\n",
    "print(r.text)"
   ]
  },
  {
   "cell_type": "code",
   "execution_count": 5,
   "metadata": {},
   "outputs": [
    {
     "name": "stdout",
     "output_type": "stream",
     "text": [
      "\n",
      "            \n",
      "          \n",
      "        Hacker News\n",
      "        \n",
      "                  Hacker News\n",
      "              new | comments | show | ask | jobs | submit            \n",
      "                              login\n",
      "                          \n",
      "              \n",
      "\n",
      "              \n",
      "      1.      50 CVEs in 50 Days: Fuzzing Adobe Reader (checkpoint.com)\n",
      "        151 points by myinnerbanjo 5 hours ago  | hide | 63&nbsp;comments              \n",
      "      \n",
      "                \n",
      "      2.      Ant Colonies Retain Memories That Outlast the Lifespans of Individuals (smithsonianmag.com)\n",
      "        289 points by bangonkeyboard 11 hours ago  | hide | 48&nbsp;comments              \n",
      "      \n",
      "                \n",
      "      3.      Archive.org donations are currently matched by a generous supporter 2-to-1 (archive.org)\n",
      "        62 points by aw3c2 4 hours ago  | hide | 7&nbsp;comments              \n",
      "      \n",
      "                \n",
      "      4.      The Waterfall methodology was a historic accident and they knew it (tuxen.de)\n",
      "        101 points by janvdberg 7 hours ago  | hide | 68&nbsp;comments              \n",
      "      \n",
      "                \n",
      "      5.      The Onion Futures Act (wikipedia.org)\n",
      "        202 points by gkaemmer 11 hours ago  | hide | 56&nbsp;comments              \n",
      "      \n",
      "                \n",
      "      6.      Sourceress (YC S17) hiring ML engineers (no ML experience required, remote ok) (sourceress.com)\n",
      "        1 minute ago | hide      \n",
      "      \n",
      "                \n",
      "      7.      Creating Windows XP Icons (2001) (microsoft.com)\n",
      "        37 points by richev 4 hours ago  | hide | 13&nbsp;comments              \n",
      "      \n",
      "                \n",
      "      8.      A newly discovered tea plant is caffeine-free (economist.com)\n",
      "        13 points by bookofjoe 2 hours ago  | hide | 4&nbsp;comments              \n",
      "      \n",
      "                \n",
      "      9.      Puzzle-solving 'doesn't slow down mental decline in older people' (nhs.uk)\n",
      "        233 points by open-source-ux 9 hours ago  | hide | 63&nbsp;comments              \n",
      "      \n",
      "                \n",
      "      10.      Page Views on Black Friday and Cyber Monday (cloudflare.com)\n",
      "        11 points by jgrahamc 2 hours ago  | hide | 1&nbsp;comment              \n",
      "      \n",
      "                \n",
      "      11.      Why Do React Hooks Rely on Call Order? (overreacted.io)\n",
      "        79 points by stablemap 7 hours ago  | hide | 22&nbsp;comments              \n",
      "      \n",
      "                \n",
      "      12.      Evelyn Berezin, 93, Dies; Built the First True Word Processor (nytimes.com)\n",
      "        45 points by NaOH 7 hours ago  | hide | 2&nbsp;comments              \n",
      "      \n",
      "                \n",
      "      13.      Comprehensive and biased comparison of OpenBSD and FreeBSD (2017) [pdf] (bsdfrog.org)\n",
      "        57 points by j0e1 9 hours ago  | hide | 4&nbsp;comments              \n",
      "      \n",
      "                \n",
      "      14.      Up close with New Zealand’s most notorious gang (huckmag.com)\n",
      "        32 points by bdcook 5 hours ago  | hide | 24&nbsp;comments              \n",
      "      \n",
      "                \n",
      "      15.      Phippy Goes to the Zoo (cncf.io)\n",
      "        8 points by pplonski86 2 hours ago  | hide | 1&nbsp;comment              \n",
      "      \n",
      "                \n",
      "      16.      How to do with probabilities what people say you can’t (1985) [pdf] (ucla.edu)\n",
      "        93 points by sytelus 12 hours ago  | hide | 19&nbsp;comments              \n",
      "      \n",
      "                \n",
      "      17.      Taylor Swift tracked stalkers with facial recognition tech at her concert (theverge.com)\n",
      "        37 points by bookofjoe 9 hours ago  | hide | 14&nbsp;comments              \n",
      "      \n",
      "                \n",
      "      18.      Internet Search Tips (gwern.net)\n",
      "        123 points by telotortium 14 hours ago  | hide | 23&nbsp;comments              \n",
      "      \n",
      "                \n",
      "      19.      Das Steingeschöpf (strangehorizons.com)\n",
      "        8 points by Tomte 3 hours ago  | hide | 1&nbsp;comment              \n",
      "      \n",
      "                \n",
      "      20.      Show HN: Free and open-source home for art made with code (shadergif.com)\n",
      "        114 points by antoineMoPa 14 hours ago  | hide | 27&nbsp;comments              \n",
      "      \n",
      "                \n",
      "      21.      Growth Ranker – Top-growing products on Indie Hackers (growthranker.com)\n",
      "        77 points by bsears 13 hours ago  | hide | 13&nbsp;comments              \n",
      "      \n",
      "                \n",
      "      22.      Congress just voted to legalize hemp (vox.com)\n",
      "        27 points by gdubs 8 hours ago  | hide | 5&nbsp;comments              \n",
      "      \n",
      "                \n",
      "      23.      Why Use F#? (fsharpforfunandprofit.com)\n",
      "        172 points by adgasf 9 hours ago  | hide | 146&nbsp;comments              \n",
      "      \n",
      "                \n",
      "      24.      Why should I have written ZeroMQ in C, not C++ (2012) (250bpm.com)\n",
      "        190 points by sytelus 9 hours ago  | hide | 160&nbsp;comments              \n",
      "      \n",
      "                \n",
      "      25.      In Praise of the Long and Complicated Sentence (lithub.com)\n",
      "        66 points by JamesClear99 9 hours ago  | hide | 36&nbsp;comments              \n",
      "      \n",
      "                \n",
      "      26.      Quantum theory cannot consistently describe the use of itself (nature.com)\n",
      "        40 points by lisper 5 hours ago  | hide | 18&nbsp;comments              \n",
      "      \n",
      "                \n",
      "      27.      Response to 'Reasons why Lisp games suffer' (techsnuffle.com)\n",
      "        84 points by etiam 13 hours ago  | hide | 61&nbsp;comments              \n",
      "      \n",
      "                \n",
      "      28.      ATDT relief (rachelbythebay.com)\n",
      "        485 points by discreditable 18 hours ago  | hide | 133&nbsp;comments              \n",
      "      \n",
      "                \n",
      "      29.      Why Chinese Is So Damn Hard (1992) (pinyin.info)\n",
      "        24 points by monsieurpng 3 hours ago  | hide | 20&nbsp;comments              \n",
      "      \n",
      "                \n",
      "      30.      Why Speculate? (2005) (larvatus.com)\n",
      "        9 points by rfreytag 4 hours ago  | hide | discuss              \n",
      "      \n",
      "            More\n",
      "  \n",
      "\n",
      "Guidelines\n",
      "        | FAQ\n",
      "        | Support\n",
      "        | API\n",
      "        | Security\n",
      "        | Lists\n",
      "        | Bookmarklet\n",
      "        | Legal\n",
      "        | Apply to YC\n",
      "        | ContactSearch:\n",
      "          \n",
      "            \n",
      "      \n",
      "  \n",
      "\n"
     ]
    }
   ],
   "source": [
    "import re\n",
    "\n",
    "# Remove HTML tags using RegEx\n",
    "pattern = re.compile(r'<.*?>')  # tags look like <...>\n",
    "print(pattern.sub('', r.text))  # replace them with blank"
   ]
  },
  {
   "cell_type": "code",
   "execution_count": 6,
   "metadata": {},
   "outputs": [
    {
     "name": "stdout",
     "output_type": "stream",
     "text": [
      "\n",
      "            \n",
      "          \n",
      "        Hacker News\n",
      "        \n",
      "                  Hacker News\n",
      "              new | comments | show | ask | jobs | submit            \n",
      "                              login\n",
      "                          \n",
      "              \n",
      "\n",
      "              \n",
      "      1.      50 CVEs in 50 Days: Fuzzing Adobe Reader (checkpoint.com)\n",
      "        151 points by myinnerbanjo 5 hours ago  | hide | 63 comments              \n",
      "      \n",
      "                \n",
      "      2.      Ant Colonies Retain Memories That Outlast the Lifespans of Individuals (smithsonianmag.com)\n",
      "        289 points by bangonkeyboard 11 hours ago  | hide | 48 comments              \n",
      "      \n",
      "                \n",
      "      3.      Archive.org donations are currently matched by a generous supporter 2-to-1 (archive.org)\n",
      "        62 points by aw3c2 4 hours ago  | hide | 7 comments              \n",
      "      \n",
      "                \n",
      "      4.      The Waterfall methodology was a historic accident and they knew it (tuxen.de)\n",
      "        101 points by janvdberg 7 hours ago  | hide | 68 comments              \n",
      "      \n",
      "                \n",
      "      5.      The Onion Futures Act (wikipedia.org)\n",
      "        202 points by gkaemmer 11 hours ago  | hide | 56 comments              \n",
      "      \n",
      "                \n",
      "      6.      Sourceress (YC S17) hiring ML engineers (no ML experience required, remote ok) (sourceress.com)\n",
      "        1 minute ago | hide      \n",
      "      \n",
      "                \n",
      "      7.      Creating Windows XP Icons (2001) (microsoft.com)\n",
      "        37 points by richev 4 hours ago  | hide | 13 comments              \n",
      "      \n",
      "                \n",
      "      8.      A newly discovered tea plant is caffeine-free (economist.com)\n",
      "        13 points by bookofjoe 2 hours ago  | hide | 4 comments              \n",
      "      \n",
      "                \n",
      "      9.      Puzzle-solving 'doesn't slow down mental decline in older people' (nhs.uk)\n",
      "        233 points by open-source-ux 9 hours ago  | hide | 63 comments              \n",
      "      \n",
      "                \n",
      "      10.      Page Views on Black Friday and Cyber Monday (cloudflare.com)\n",
      "        11 points by jgrahamc 2 hours ago  | hide | 1 comment              \n",
      "      \n",
      "                \n",
      "      11.      Why Do React Hooks Rely on Call Order? (overreacted.io)\n",
      "        79 points by stablemap 7 hours ago  | hide | 22 comments              \n",
      "      \n",
      "                \n",
      "      12.      Evelyn Berezin, 93, Dies; Built the First True Word Processor (nytimes.com)\n",
      "        45 points by NaOH 7 hours ago  | hide | 2 comments              \n",
      "      \n",
      "                \n",
      "      13.      Comprehensive and biased comparison of OpenBSD and FreeBSD (2017) [pdf] (bsdfrog.org)\n",
      "        57 points by j0e1 9 hours ago  | hide | 4 comments              \n",
      "      \n",
      "                \n",
      "      14.      Up close with New Zealand’s most notorious gang (huckmag.com)\n",
      "        32 points by bdcook 5 hours ago  | hide | 24 comments              \n",
      "      \n",
      "                \n",
      "      15.      Phippy Goes to the Zoo (cncf.io)\n",
      "        8 points by pplonski86 2 hours ago  | hide | 1 comment              \n",
      "      \n",
      "                \n",
      "      16.      How to do with probabilities what people say you can’t (1985) [pdf] (ucla.edu)\n",
      "        93 points by sytelus 12 hours ago  | hide | 19 comments              \n",
      "      \n",
      "                \n",
      "      17.      Taylor Swift tracked stalkers with facial recognition tech at her concert (theverge.com)\n",
      "        37 points by bookofjoe 9 hours ago  | hide | 14 comments              \n",
      "      \n",
      "                \n",
      "      18.      Internet Search Tips (gwern.net)\n",
      "        123 points by telotortium 14 hours ago  | hide | 23 comments              \n",
      "      \n",
      "                \n",
      "      19.      Das Steingeschöpf (strangehorizons.com)\n",
      "        8 points by Tomte 3 hours ago  | hide | 1 comment              \n",
      "      \n",
      "                \n",
      "      20.      Show HN: Free and open-source home for art made with code (shadergif.com)\n",
      "        114 points by antoineMoPa 14 hours ago  | hide | 27 comments              \n",
      "      \n",
      "                \n",
      "      21.      Growth Ranker – Top-growing products on Indie Hackers (growthranker.com)\n",
      "        77 points by bsears 13 hours ago  | hide | 13 comments              \n",
      "      \n",
      "                \n",
      "      22.      Congress just voted to legalize hemp (vox.com)\n",
      "        27 points by gdubs 8 hours ago  | hide | 5 comments              \n",
      "      \n",
      "                \n",
      "      23.      Why Use F#? (fsharpforfunandprofit.com)\n",
      "        172 points by adgasf 9 hours ago  | hide | 146 comments              \n",
      "      \n",
      "                \n",
      "      24.      Why should I have written ZeroMQ in C, not C++ (2012) (250bpm.com)\n",
      "        190 points by sytelus 9 hours ago  | hide | 160 comments              \n",
      "      \n",
      "                \n",
      "      25.      In Praise of the Long and Complicated Sentence (lithub.com)\n",
      "        66 points by JamesClear99 9 hours ago  | hide | 36 comments              \n",
      "      \n",
      "                \n",
      "      26.      Quantum theory cannot consistently describe the use of itself (nature.com)\n",
      "        40 points by lisper 5 hours ago  | hide | 18 comments              \n",
      "      \n",
      "                \n",
      "      27.      Response to 'Reasons why Lisp games suffer' (techsnuffle.com)\n",
      "        84 points by etiam 13 hours ago  | hide | 61 comments              \n",
      "      \n",
      "                \n",
      "      28.      ATDT relief (rachelbythebay.com)\n",
      "        485 points by discreditable 18 hours ago  | hide | 133 comments              \n",
      "      \n",
      "                \n",
      "      29.      Why Chinese Is So Damn Hard (1992) (pinyin.info)\n",
      "        24 points by monsieurpng 3 hours ago  | hide | 20 comments              \n",
      "      \n",
      "                \n",
      "      30.      Why Speculate? (2005) (larvatus.com)\n",
      "        9 points by rfreytag 4 hours ago  | hide | discuss              \n",
      "      \n",
      "            More\n",
      "  \n",
      "\n",
      "Guidelines\n",
      "        | FAQ\n",
      "        | Support\n",
      "        | API\n",
      "        | Security\n",
      "        | Lists\n",
      "        | Bookmarklet\n",
      "        | Legal\n",
      "        | Apply to YC\n",
      "        | ContactSearch:\n",
      "          \n",
      "            \n",
      "      \n",
      "  \n",
      "\n"
     ]
    }
   ],
   "source": [
    "from bs4 import BeautifulSoup\n",
    "\n",
    "# Remove HTML tags using Beautiful Soup library\n",
    "soup = BeautifulSoup(r.text, \"html5lib\")\n",
    "print(soup.get_text())"
   ]
  },
  {
   "cell_type": "code",
   "execution_count": 7,
   "metadata": {
    "scrolled": true
   },
   "outputs": [
    {
     "data": {
      "text/plain": [
       "<tr class=\"athing\" id=\"18669720\">\n",
       "      <td align=\"right\" class=\"title\" valign=\"top\"><span class=\"rank\">1.</span></td>      <td class=\"votelinks\" valign=\"top\"><center><a href=\"vote?id=18669720&amp;how=up&amp;goto=news\" id=\"up_18669720\"><div class=\"votearrow\" title=\"upvote\"></div></a></center></td><td class=\"title\"><a class=\"storylink\" href=\"https://research.checkpoint.com/50-adobe-cves-in-50-days/\">50 CVEs in 50 Days: Fuzzing Adobe Reader</a><span class=\"sitebit comhead\"> (<a href=\"from?site=checkpoint.com\"><span class=\"sitestr\">checkpoint.com</span></a>)</span></td></tr>"
      ]
     },
     "execution_count": 7,
     "metadata": {},
     "output_type": "execute_result"
    }
   ],
   "source": [
    "# Find all articles\n",
    "summaries = soup.find_all(\"tr\", class_=\"athing\")\n",
    "summaries[0]"
   ]
  },
  {
   "cell_type": "code",
   "execution_count": 8,
   "metadata": {},
   "outputs": [
    {
     "data": {
      "text/plain": [
       "'50 CVEs in 50 Days: Fuzzing Adobe Reader'"
      ]
     },
     "execution_count": 8,
     "metadata": {},
     "output_type": "execute_result"
    }
   ],
   "source": [
    "# Extract title\n",
    "summaries[0].find(\"a\", class_=\"storylink\").get_text().strip()"
   ]
  },
  {
   "cell_type": "code",
   "execution_count": 9,
   "metadata": {},
   "outputs": [
    {
     "name": "stdout",
     "output_type": "stream",
     "text": [
      "30 Article summaries found. Sample:\n",
      "50 CVEs in 50 Days: Fuzzing Adobe Reader\n"
     ]
    }
   ],
   "source": [
    "# Find all articles, extract titles\n",
    "articles = []\n",
    "summaries = soup.find_all(\"tr\", class_=\"athing\")\n",
    "for summary in summaries:\n",
    "    title = summary.find(\"a\", class_=\"storylink\").get_text().strip()\n",
    "    articles.append((title))\n",
    "\n",
    "print(len(articles), \"Article summaries found. Sample:\")\n",
    "print(articles[0])"
   ]
  },
  {
   "cell_type": "markdown",
   "metadata": {
    "collapsed": true
   },
   "source": [
    "## Normalization"
   ]
  },
  {
   "cell_type": "markdown",
   "metadata": {},
   "source": [
    "### Case Normalization"
   ]
  },
  {
   "cell_type": "code",
   "execution_count": 10,
   "metadata": {},
   "outputs": [
    {
     "name": "stdout",
     "output_type": "stream",
     "text": [
      "The first time you see The Second Renaissance it may look boring. Look at it at least twice and definitely watch part 2. It will change your view of the matrix. Are the human people the ones who started the war ? Is AI a bad thing ?\n"
     ]
    }
   ],
   "source": [
    "# Sample text\n",
    "text = \"The first time you see The Second Renaissance it may look boring. Look at it at least twice and definitely watch part 2. It will change your view of the matrix. Are the human people the ones who started the war ? Is AI a bad thing ?\"\n",
    "print(text)"
   ]
  },
  {
   "cell_type": "code",
   "execution_count": 11,
   "metadata": {},
   "outputs": [
    {
     "name": "stdout",
     "output_type": "stream",
     "text": [
      "the first time you see the second renaissance it may look boring. look at it at least twice and definitely watch part 2. it will change your view of the matrix. are the human people the ones who started the war ? is ai a bad thing ?\n"
     ]
    }
   ],
   "source": [
    "# Convert to lowercase\n",
    "text = text.lower() \n",
    "print(text)"
   ]
  },
  {
   "cell_type": "markdown",
   "metadata": {},
   "source": [
    "### Punctuation Removal"
   ]
  },
  {
   "cell_type": "code",
   "execution_count": 12,
   "metadata": {},
   "outputs": [
    {
     "name": "stdout",
     "output_type": "stream",
     "text": [
      "the first time you see the second renaissance it may look boring  look at it at least twice and definitely watch part 2  it will change your view of the matrix  are the human people the ones who started the war   is ai a bad thing  \n"
     ]
    }
   ],
   "source": [
    "import re\n",
    "\n",
    "# Remove punctuation characters\n",
    "text = re.sub(r\"[^a-zA-Z0-9]\", \" \", text) \n",
    "print(text)"
   ]
  },
  {
   "cell_type": "markdown",
   "metadata": {},
   "source": [
    "## Tokenization"
   ]
  },
  {
   "cell_type": "code",
   "execution_count": 13,
   "metadata": {},
   "outputs": [
    {
     "name": "stdout",
     "output_type": "stream",
     "text": [
      "['the', 'first', 'time', 'you', 'see', 'the', 'second', 'renaissance', 'it', 'may', 'look', 'boring', 'look', 'at', 'it', 'at', 'least', 'twice', 'and', 'definitely', 'watch', 'part', '2', 'it', 'will', 'change', 'your', 'view', 'of', 'the', 'matrix', 'are', 'the', 'human', 'people', 'the', 'ones', 'who', 'started', 'the', 'war', 'is', 'ai', 'a', 'bad', 'thing']\n"
     ]
    }
   ],
   "source": [
    "# Split text into tokens (words)\n",
    "words = text.split()\n",
    "print(words)"
   ]
  },
  {
   "cell_type": "markdown",
   "metadata": {},
   "source": [
    "### NLTK: Natural Language ToolKit"
   ]
  },
  {
   "cell_type": "code",
   "execution_count": 14,
   "metadata": {},
   "outputs": [],
   "source": [
    "import os\n",
    "import nltk\n",
    "nltk.data.path.append(os.path.join(os.getcwd(), \"nltk_data\"))"
   ]
  },
  {
   "cell_type": "code",
   "execution_count": 15,
   "metadata": {},
   "outputs": [
    {
     "name": "stdout",
     "output_type": "stream",
     "text": [
      "Dr. Smith graduated from the University of Washington. He later started an analytics firm called Lux, which catered to enterprise customers.\n"
     ]
    }
   ],
   "source": [
    "# Another sample text\n",
    "text = \"Dr. Smith graduated from the University of Washington. He later started an analytics firm called Lux, which catered to enterprise customers.\"\n",
    "print(text)"
   ]
  },
  {
   "cell_type": "code",
   "execution_count": 16,
   "metadata": {},
   "outputs": [
    {
     "name": "stdout",
     "output_type": "stream",
     "text": [
      "['Dr.', 'Smith', 'graduated', 'from', 'the', 'University', 'of', 'Washington', '.', 'He', 'later', 'started', 'an', 'analytics', 'firm', 'called', 'Lux', ',', 'which', 'catered', 'to', 'enterprise', 'customers', '.']\n"
     ]
    }
   ],
   "source": [
    "from nltk.tokenize import word_tokenize\n",
    "\n",
    "# Split text into words using NLTK\n",
    "words = word_tokenize(text)\n",
    "print(words)"
   ]
  },
  {
   "cell_type": "code",
   "execution_count": 17,
   "metadata": {},
   "outputs": [
    {
     "name": "stdout",
     "output_type": "stream",
     "text": [
      "['Dr. Smith graduated from the University of Washington.', 'He later started an analytics firm called Lux, which catered to enterprise customers.']\n"
     ]
    }
   ],
   "source": [
    "from nltk.tokenize import sent_tokenize\n",
    "\n",
    "# Split text into sentences\n",
    "sentences = sent_tokenize(text)\n",
    "print(sentences)"
   ]
  },
  {
   "cell_type": "code",
   "execution_count": 18,
   "metadata": {},
   "outputs": [
    {
     "name": "stdout",
     "output_type": "stream",
     "text": [
      "['i', 'me', 'my', 'myself', 'we', 'our', 'ours', 'ourselves', 'you', \"you're\", \"you've\", \"you'll\", \"you'd\", 'your', 'yours', 'yourself', 'yourselves', 'he', 'him', 'his', 'himself', 'she', \"she's\", 'her', 'hers', 'herself', 'it', \"it's\", 'its', 'itself', 'they', 'them', 'their', 'theirs', 'themselves', 'what', 'which', 'who', 'whom', 'this', 'that', \"that'll\", 'these', 'those', 'am', 'is', 'are', 'was', 'were', 'be', 'been', 'being', 'have', 'has', 'had', 'having', 'do', 'does', 'did', 'doing', 'a', 'an', 'the', 'and', 'but', 'if', 'or', 'because', 'as', 'until', 'while', 'of', 'at', 'by', 'for', 'with', 'about', 'against', 'between', 'into', 'through', 'during', 'before', 'after', 'above', 'below', 'to', 'from', 'up', 'down', 'in', 'out', 'on', 'off', 'over', 'under', 'again', 'further', 'then', 'once', 'here', 'there', 'when', 'where', 'why', 'how', 'all', 'any', 'both', 'each', 'few', 'more', 'most', 'other', 'some', 'such', 'no', 'nor', 'not', 'only', 'own', 'same', 'so', 'than', 'too', 'very', 's', 't', 'can', 'will', 'just', 'don', \"don't\", 'should', \"should've\", 'now', 'd', 'll', 'm', 'o', 're', 've', 'y', 'ain', 'aren', \"aren't\", 'couldn', \"couldn't\", 'didn', \"didn't\", 'doesn', \"doesn't\", 'hadn', \"hadn't\", 'hasn', \"hasn't\", 'haven', \"haven't\", 'isn', \"isn't\", 'ma', 'mightn', \"mightn't\", 'mustn', \"mustn't\", 'needn', \"needn't\", 'shan', \"shan't\", 'shouldn', \"shouldn't\", 'wasn', \"wasn't\", 'weren', \"weren't\", 'won', \"won't\", 'wouldn', \"wouldn't\"]\n"
     ]
    }
   ],
   "source": [
    "# List stop words\n",
    "from nltk.corpus import stopwords\n",
    "print(stopwords.words(\"english\"))"
   ]
  },
  {
   "cell_type": "code",
   "execution_count": 19,
   "metadata": {},
   "outputs": [
    {
     "name": "stdout",
     "output_type": "stream",
     "text": [
      "['the', 'first', 'time', 'you', 'see', 'the', 'second', 'renaissance', 'it', 'may', 'look', 'boring', 'look', 'at', 'it', 'at', 'least', 'twice', 'and', 'definitely', 'watch', 'part', '2', 'it', 'will', 'change', 'your', 'view', 'of', 'the', 'matrix', 'are', 'the', 'human', 'people', 'the', 'ones', 'who', 'started', 'the', 'war', 'is', 'ai', 'a', 'bad', 'thing']\n"
     ]
    }
   ],
   "source": [
    "# Reset text\n",
    "text = \"The first time you see The Second Renaissance it may look boring. Look at it at least twice and definitely watch part 2. It will change your view of the matrix. Are the human people the ones who started the war ? Is AI a bad thing ?\"\n",
    "\n",
    "# Normalize it\n",
    "text = re.sub(r\"[^a-zA-Z0-9]\", \" \", text.lower())\n",
    "\n",
    "# Tokenize it\n",
    "words = text.split()\n",
    "print(words)"
   ]
  },
  {
   "cell_type": "code",
   "execution_count": 20,
   "metadata": {},
   "outputs": [
    {
     "name": "stdout",
     "output_type": "stream",
     "text": [
      "['first', 'time', 'see', 'second', 'renaissance', 'may', 'look', 'boring', 'look', 'least', 'twice', 'definitely', 'watch', 'part', '2', 'change', 'view', 'matrix', 'human', 'people', 'ones', 'started', 'war', 'ai', 'bad', 'thing']\n"
     ]
    }
   ],
   "source": [
    "# Remove stop words\n",
    "words = [w for w in words if w not in stopwords.words(\"english\")]\n",
    "print(words)"
   ]
  },
  {
   "cell_type": "markdown",
   "metadata": {},
   "source": [
    "### Sentence Parsing"
   ]
  },
  {
   "cell_type": "code",
   "execution_count": 21,
   "metadata": {},
   "outputs": [
    {
     "name": "stdout",
     "output_type": "stream",
     "text": [
      "(S\n",
      "  (NP I)\n",
      "  (VP\n",
      "    (VP (V shot) (NP (Det an) (N elephant)))\n",
      "    (PP (P in) (NP (Det my) (N pajamas)))))\n",
      "(S\n",
      "  (NP I)\n",
      "  (VP\n",
      "    (V shot)\n",
      "    (NP (Det an) (N elephant) (PP (P in) (NP (Det my) (N pajamas))))))\n"
     ]
    }
   ],
   "source": [
    "import nltk\n",
    "\n",
    "# Define a custom grammar\n",
    "my_grammar = nltk.CFG.fromstring(\"\"\"\n",
    "S -> NP VP\n",
    "PP -> P NP\n",
    "NP -> Det N | Det N PP | 'I'\n",
    "VP -> V NP | VP PP\n",
    "Det -> 'an' | 'my'\n",
    "N -> 'elephant' | 'pajamas'\n",
    "V -> 'shot'\n",
    "P -> 'in'\n",
    "\"\"\")\n",
    "parser = nltk.ChartParser(my_grammar)\n",
    "\n",
    "# Parse a sentence\n",
    "sentence = word_tokenize(\"I shot an elephant in my pajamas\")\n",
    "for tree in parser.parse(sentence):\n",
    "    print(tree)"
   ]
  },
  {
   "cell_type": "markdown",
   "metadata": {},
   "source": [
    "## Stemming & Lemmatization\n",
    "\n",
    "### Stemming"
   ]
  },
  {
   "cell_type": "code",
   "execution_count": 22,
   "metadata": {},
   "outputs": [
    {
     "name": "stdout",
     "output_type": "stream",
     "text": [
      "['first', 'time', 'see', 'second', 'renaiss', 'may', 'look', 'bore', 'look', 'least', 'twice', 'definit', 'watch', 'part', '2', 'chang', 'view', 'matrix', 'human', 'peopl', 'one', 'start', 'war', 'ai', 'bad', 'thing']\n"
     ]
    }
   ],
   "source": [
    "from nltk.stem.porter import PorterStemmer\n",
    "\n",
    "# Reduce words to their stems\n",
    "stemmed = [PorterStemmer().stem(w) for w in words]\n",
    "print(stemmed)"
   ]
  },
  {
   "cell_type": "markdown",
   "metadata": {},
   "source": [
    "### Lemmatization"
   ]
  },
  {
   "cell_type": "code",
   "execution_count": 23,
   "metadata": {},
   "outputs": [
    {
     "name": "stdout",
     "output_type": "stream",
     "text": [
      "['first', 'time', 'see', 'second', 'renaissance', 'may', 'look', 'boring', 'look', 'least', 'twice', 'definitely', 'watch', 'part', '2', 'change', 'view', 'matrix', 'human', 'people', 'one', 'started', 'war', 'ai', 'bad', 'thing']\n"
     ]
    }
   ],
   "source": [
    "from nltk.stem.wordnet import WordNetLemmatizer\n",
    "\n",
    "# Reduce words to their root form\n",
    "lemmed = [WordNetLemmatizer().lemmatize(w) for w in words]\n",
    "print(lemmed)"
   ]
  },
  {
   "cell_type": "code",
   "execution_count": 24,
   "metadata": {},
   "outputs": [
    {
     "name": "stdout",
     "output_type": "stream",
     "text": [
      "['first', 'time', 'see', 'second', 'renaissance', 'may', 'look', 'bore', 'look', 'least', 'twice', 'definitely', 'watch', 'part', '2', 'change', 'view', 'matrix', 'human', 'people', 'one', 'start', 'war', 'ai', 'bad', 'thing']\n"
     ]
    }
   ],
   "source": [
    "# Lemmatize verbs by specifying pos\n",
    "lemmed = [WordNetLemmatizer().lemmatize(w, pos='v') for w in lemmed]\n",
    "print(lemmed)"
   ]
  },
  {
   "cell_type": "code",
   "execution_count": null,
   "metadata": {},
   "outputs": [],
   "source": []
  }
 ],
 "metadata": {
  "kernelspec": {
   "display_name": "Python 3",
   "language": "python",
   "name": "python3"
  },
  "language_info": {
   "codemirror_mode": {
    "name": "ipython",
    "version": 3
   },
   "file_extension": ".py",
   "mimetype": "text/x-python",
   "name": "python",
   "nbconvert_exporter": "python",
   "pygments_lexer": "ipython3",
   "version": "3.6.3"
  }
 },
 "nbformat": 4,
 "nbformat_minor": 2
}
